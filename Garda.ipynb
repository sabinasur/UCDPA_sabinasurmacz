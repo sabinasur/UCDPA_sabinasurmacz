{
 "cells": [
  {
   "cell_type": "code",
   "execution_count": 1,
   "id": "5362a672",
   "metadata": {},
   "outputs": [],
   "source": [
    "import pandas as pd\n",
    "import numpy as np\n",
    "import matplotlib as plt\n",
    "import seaborn as sns"
   ]
  },
  {
   "cell_type": "code",
   "execution_count": 8,
   "id": "990a0c30",
   "metadata": {},
   "outputs": [],
   "source": [
    "df=pd.read_csv(\"Garda_Stations_FCC.csv\")"
   ]
  },
  {
   "cell_type": "code",
   "execution_count": 9,
   "id": "23b382d3",
   "metadata": {},
   "outputs": [
    {
     "name": "stdout",
     "output_type": "stream",
     "text": [
      "               X             Y                      Name  \\\n",
      "0 -689184.858417  7.097460e+06  Balbriggan Garda Station   \n",
      "1 -679823.856719  7.090934e+06    Skerries Garda Station   \n",
      "2 -686544.630268  7.080412e+06        Lusk Garda Station   \n",
      "3 -684826.043902  7.066881e+06    Malahide Garda Station   \n",
      "4 -692536.890330  7.067808e+06      Swords Garda Station   \n",
      "\n",
      "                Address1    Address2    Address3           Phone  Eircode  \\\n",
      "0          Drogheda Road  Balbriggan  Co. Dublin  +353 1 8020510  K32WE01   \n",
      "1          Strand Street    Skerries  Co. Dublin  +353 1 8491211  K34F682   \n",
      "2            Dublin Road        Lusk  Co. Dublin  +353 1 8437222  K45YH94   \n",
      "3  1-2 St. James Terrace    Malahide  Co. Dublin  +353 1 6664600  K36NH50   \n",
      "4            Main Street      Swords  Co. Dublin  +353 1 6664700  K36RF70   \n",
      "\n",
      "                                     Website  \\\n",
      "0  http://www.garda.ie/Stations/Default.aspx   \n",
      "1  http://www.garda.ie/Stations/Default.aspx   \n",
      "2  http://www.garda.ie/Stations/Default.aspx   \n",
      "3  http://www.garda.ie/Stations/Default.aspx   \n",
      "4  http://www.garda.ie/Stations/Default.aspx   \n",
      "\n",
      "                                       Division Divisional_HQ  \\\n",
      "0  Dublin Metropolitan Region Northern Division      Ballymun   \n",
      "1  Dublin Metropolitan Region Northern Division      Ballymun   \n",
      "2  Dublin Metropolitan Region Northern Division      Ballymun   \n",
      "3  Dublin Metropolitan Region Northern Division      Ballymun   \n",
      "4  Dublin Metropolitan Region Northern Division      Ballymun   \n",
      "\n",
      "  Divisional_HQ_Phone    District District_HQ District_HQ_Phone  \\\n",
      "0      +353 1 6664493  Balbriggan  Balbriggan    +353 1 8020510   \n",
      "1      +353 1 6664493  Balbriggan  Balbriggan    +353 1 8020510   \n",
      "2      +353 1 6664493  Balbriggan  Balbriggan    +353 1 8020510   \n",
      "3      +353 1 6664493     Coolock     Coolock    +353 1 6664282   \n",
      "4      +353 1 6664493     Coolock     Coolock    +353 1 6664282   \n",
      "\n",
      "    Opening_Hours        LAT      LONG  ObjectId  \n",
      "0     Open 24hrs   53.614378 -6.191053         1  \n",
      "1   Closes at 9pm  53.579590 -6.106962         2  \n",
      "2  Closes at 9pm   53.523435 -6.167335         3  \n",
      "3  Closes at 9pm   53.451109 -6.151897         4  \n",
      "4     Open 24hrs   53.456067 -6.221165         5  \n"
     ]
    }
   ],
   "source": [
    "print(df.head())"
   ]
  },
  {
   "cell_type": "code",
   "execution_count": 10,
   "id": "4d5fb7e4",
   "metadata": {},
   "outputs": [
    {
     "name": "stdout",
     "output_type": "stream",
     "text": [
      "<class 'pandas.core.frame.DataFrame'>\n",
      "RangeIndex: 18 entries, 0 to 17\n",
      "Data columns (total 19 columns):\n",
      " #   Column               Non-Null Count  Dtype  \n",
      "---  ------               --------------  -----  \n",
      " 0   X                    18 non-null     float64\n",
      " 1   Y                    18 non-null     float64\n",
      " 2   Name                 18 non-null     object \n",
      " 3   Address1             18 non-null     object \n",
      " 4   Address2             18 non-null     object \n",
      " 5   Address3             14 non-null     object \n",
      " 6   Phone                18 non-null     object \n",
      " 7   Eircode              18 non-null     object \n",
      " 8   Website              18 non-null     object \n",
      " 9   Division             18 non-null     object \n",
      " 10  Divisional_HQ        18 non-null     object \n",
      " 11  Divisional_HQ_Phone  18 non-null     object \n",
      " 12  District             18 non-null     object \n",
      " 13  District_HQ          18 non-null     object \n",
      " 14  District_HQ_Phone    18 non-null     object \n",
      " 15  Opening_Hours        18 non-null     object \n",
      " 16  LAT                  18 non-null     float64\n",
      " 17  LONG                 18 non-null     float64\n",
      " 18  ObjectId             18 non-null     int64  \n",
      "dtypes: float64(4), int64(1), object(14)\n",
      "memory usage: 2.8+ KB\n"
     ]
    }
   ],
   "source": [
    "df.info()"
   ]
  },
  {
   "cell_type": "code",
   "execution_count": 11,
   "id": "33e67232",
   "metadata": {},
   "outputs": [
    {
     "data": {
      "text/html": [
       "<div>\n",
       "<style scoped>\n",
       "    .dataframe tbody tr th:only-of-type {\n",
       "        vertical-align: middle;\n",
       "    }\n",
       "\n",
       "    .dataframe tbody tr th {\n",
       "        vertical-align: top;\n",
       "    }\n",
       "\n",
       "    .dataframe thead th {\n",
       "        text-align: right;\n",
       "    }\n",
       "</style>\n",
       "<table border=\"1\" class=\"dataframe\">\n",
       "  <thead>\n",
       "    <tr style=\"text-align: right;\">\n",
       "      <th></th>\n",
       "      <th>X</th>\n",
       "      <th>Y</th>\n",
       "      <th>LAT</th>\n",
       "      <th>LONG</th>\n",
       "      <th>ObjectId</th>\n",
       "    </tr>\n",
       "  </thead>\n",
       "  <tbody>\n",
       "    <tr>\n",
       "      <th>count</th>\n",
       "      <td>18.000000</td>\n",
       "      <td>1.800000e+01</td>\n",
       "      <td>18.000000</td>\n",
       "      <td>18.000000</td>\n",
       "      <td>18.000000</td>\n",
       "    </tr>\n",
       "    <tr>\n",
       "      <th>mean</th>\n",
       "      <td>-698471.534466</td>\n",
       "      <td>7.065624e+06</td>\n",
       "      <td>53.444315</td>\n",
       "      <td>-6.274477</td>\n",
       "      <td>9.500000</td>\n",
       "    </tr>\n",
       "    <tr>\n",
       "      <th>std</th>\n",
       "      <td>14394.879526</td>\n",
       "      <td>1.501405e+04</td>\n",
       "      <td>0.080265</td>\n",
       "      <td>0.129311</td>\n",
       "      <td>5.338539</td>\n",
       "    </tr>\n",
       "    <tr>\n",
       "      <th>min</th>\n",
       "      <td>-723391.481352</td>\n",
       "      <td>7.049138e+06</td>\n",
       "      <td>53.356085</td>\n",
       "      <td>-6.498336</td>\n",
       "      <td>1.000000</td>\n",
       "    </tr>\n",
       "    <tr>\n",
       "      <th>25%</th>\n",
       "      <td>-710562.835771</td>\n",
       "      <td>7.055406e+06</td>\n",
       "      <td>53.389678</td>\n",
       "      <td>-6.383095</td>\n",
       "      <td>5.250000</td>\n",
       "    </tr>\n",
       "    <tr>\n",
       "      <th>50%</th>\n",
       "      <td>-695502.909719</td>\n",
       "      <td>7.058783e+06</td>\n",
       "      <td>53.407765</td>\n",
       "      <td>-6.247809</td>\n",
       "      <td>9.500000</td>\n",
       "    </tr>\n",
       "    <tr>\n",
       "      <th>75%</th>\n",
       "      <td>-688107.015797</td>\n",
       "      <td>7.075569e+06</td>\n",
       "      <td>53.497553</td>\n",
       "      <td>-6.181370</td>\n",
       "      <td>13.750000</td>\n",
       "    </tr>\n",
       "    <tr>\n",
       "      <th>max</th>\n",
       "      <td>-675595.490390</td>\n",
       "      <td>7.097460e+06</td>\n",
       "      <td>53.614378</td>\n",
       "      <td>-6.068978</td>\n",
       "      <td>18.000000</td>\n",
       "    </tr>\n",
       "  </tbody>\n",
       "</table>\n",
       "</div>"
      ],
      "text/plain": [
       "                   X             Y        LAT       LONG   ObjectId\n",
       "count      18.000000  1.800000e+01  18.000000  18.000000  18.000000\n",
       "mean  -698471.534466  7.065624e+06  53.444315  -6.274477   9.500000\n",
       "std     14394.879526  1.501405e+04   0.080265   0.129311   5.338539\n",
       "min   -723391.481352  7.049138e+06  53.356085  -6.498336   1.000000\n",
       "25%   -710562.835771  7.055406e+06  53.389678  -6.383095   5.250000\n",
       "50%   -695502.909719  7.058783e+06  53.407765  -6.247809   9.500000\n",
       "75%   -688107.015797  7.075569e+06  53.497553  -6.181370  13.750000\n",
       "max   -675595.490390  7.097460e+06  53.614378  -6.068978  18.000000"
      ]
     },
     "execution_count": 11,
     "metadata": {},
     "output_type": "execute_result"
    }
   ],
   "source": [
    "df.describe()"
   ]
  },
  {
   "cell_type": "code",
   "execution_count": 12,
   "id": "cad5fd73",
   "metadata": {},
   "outputs": [
    {
     "data": {
      "text/plain": [
       "Index(['X', 'Y', 'Name', 'Address1', 'Address2', 'Address3', 'Phone',\n",
       "       'Eircode', 'Website', 'Division', 'Divisional_HQ',\n",
       "       'Divisional_HQ_Phone', 'District', 'District_HQ', 'District_HQ_Phone',\n",
       "       'Opening_Hours', 'LAT', 'LONG', 'ObjectId'],\n",
       "      dtype='object')"
      ]
     },
     "execution_count": 12,
     "metadata": {},
     "output_type": "execute_result"
    }
   ],
   "source": [
    "df.columns"
   ]
  },
  {
   "cell_type": "code",
   "execution_count": 13,
   "id": "22825b3c",
   "metadata": {},
   "outputs": [
    {
     "data": {
      "text/plain": [
       "(18, 19)"
      ]
     },
     "execution_count": 13,
     "metadata": {},
     "output_type": "execute_result"
    }
   ],
   "source": [
    "df.shape"
   ]
  },
  {
   "cell_type": "code",
   "execution_count": 14,
   "id": "60fceb24",
   "metadata": {},
   "outputs": [
    {
     "data": {
      "text/plain": [
       "X                      0\n",
       "Y                      0\n",
       "Name                   0\n",
       "Address1               0\n",
       "Address2               0\n",
       "Address3               4\n",
       "Phone                  0\n",
       "Eircode                0\n",
       "Website                0\n",
       "Division               0\n",
       "Divisional_HQ          0\n",
       "Divisional_HQ_Phone    0\n",
       "District               0\n",
       "District_HQ            0\n",
       "District_HQ_Phone      0\n",
       "Opening_Hours          0\n",
       "LAT                    0\n",
       "LONG                   0\n",
       "ObjectId               0\n",
       "dtype: int64"
      ]
     },
     "execution_count": 14,
     "metadata": {},
     "output_type": "execute_result"
    }
   ],
   "source": [
    "df.isnull().sum()"
   ]
  },
  {
   "cell_type": "code",
   "execution_count": 15,
   "id": "fa0c0842",
   "metadata": {},
   "outputs": [],
   "source": [
    "import re"
   ]
  },
  {
   "cell_type": "code",
   "execution_count": null,
   "id": "49f06321",
   "metadata": {},
   "outputs": [],
   "source": []
  }
 ],
 "metadata": {
  "kernelspec": {
   "display_name": "Python 3 (ipykernel)",
   "language": "python",
   "name": "python3"
  },
  "language_info": {
   "codemirror_mode": {
    "name": "ipython",
    "version": 3
   },
   "file_extension": ".py",
   "mimetype": "text/x-python",
   "name": "python",
   "nbconvert_exporter": "python",
   "pygments_lexer": "ipython3",
   "version": "3.9.7"
  }
 },
 "nbformat": 4,
 "nbformat_minor": 5
}
